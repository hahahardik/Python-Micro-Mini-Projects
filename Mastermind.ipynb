{
 "cells": [
  {
   "cell_type": "markdown",
   "id": "43b90253",
   "metadata": {},
   "source": [
    "# Mastermind\n",
    "\n",
    "__This game is a variation of guessing game.__\n",
    "\n",
    "The player has to guess the secret value which is randomly generated. <br>\n",
    "\n",
    "After every guess you will get a hint which consists of two values:<br>\n",
    "\n",
    "1. First digit tells how many digits are guessed correctly and are in correct positions\n",
    "2. Second digit tells how many digits are guessed correctly but are in wrong positions.\n",
    "\n",
    "For example, if the secret value is 1492 and user's guess is 2013 - hint should answer with 0-2.\n",
    "And if the guess is 1865, then the hint would be 1-0.\n",
    "\n",
    "*The steps used in construction are shown below.*\n",
    "\n",
    "__Complete compiled code is saved in a separate 'mastermind.py' file.__"
   ]
  },
  {
   "cell_type": "code",
   "execution_count": 8,
   "id": "b975eac5",
   "metadata": {},
   "outputs": [],
   "source": [
    "# Takes the user guess\n",
    "\n",
    "def user_guess():\n",
    "    \n",
    "    guess = input(\"Enter your guess: \")\n",
    "    return guess"
   ]
  },
  {
   "cell_type": "code",
   "execution_count": 3,
   "id": "b4d95f7f",
   "metadata": {},
   "outputs": [],
   "source": [
    "# Checks the guess entered by the user\n",
    "# For simplicity purposes, secret value has beeen fixed\n",
    "\n",
    "import random\n",
    "sv = random.randint(1000, 9999)\n",
    "\n",
    "def check_guess(guess,secret_value = sv):\n",
    "\n",
    "    \n",
    "    list_sv = [int(i) for i in str(secret_value)]\n",
    "    list_guess = [int(i) for i in str(guess)]\n",
    "    \n",
    "    \n",
    "    gc_cp = 0    # Guessed correctly and at correct position\n",
    "    gc_wp = 0    # Guessed correctly but at wrong position\n",
    "    \n",
    "    for i in list_guess:\n",
    "        if i in list_sv:\n",
    "            if list_sv.index(i) == list_guess.index(i):\n",
    "                gc_cp += 1\n",
    "            else:\n",
    "                gc_wp += 1\n",
    "        else:\n",
    "            continue\n",
    "            \n",
    "        \n",
    "    return f'{gc_cp}-{gc_wp}'"
   ]
  },
  {
   "cell_type": "code",
   "execution_count": 4,
   "id": "75776b98",
   "metadata": {},
   "outputs": [],
   "source": [
    "# Checks if the guess is correct and declares win\n",
    "\n",
    "def win_check(r):\n",
    "    \n",
    "    if r == '4-0':\n",
    "        print('\\nYayy!!! You guessed it right.')\n",
    "        return True\n",
    "    else:\n",
    "        pass"
   ]
  },
  {
   "cell_type": "code",
   "execution_count": 5,
   "id": "ebb9092d",
   "metadata": {},
   "outputs": [],
   "source": [
    "# Asks if the user wants to continue or not\n",
    "\n",
    "def resume_play():\n",
    "    \n",
    "    resume = input('\\nDo you want to continue: ')\n",
    "    if resume.lower().startswith('y'):\n",
    "        return True\n",
    "    elif resume.lower().startswith('n'):\n",
    "        return False\n",
    "    else:\n",
    "        print('Enter a valid statement.')\n",
    "        resume_play()"
   ]
  },
  {
   "cell_type": "code",
   "execution_count": 6,
   "id": "cf6101a3",
   "metadata": {},
   "outputs": [],
   "source": [
    "def mastermind():\n",
    "    \n",
    "    print('How Good are you at guessing?\\n')\n",
    "    print('Welcome to the MASTERMIND!!! \\n')\n",
    "    \n",
    "    global flag\n",
    "    flag = True\n",
    "    \n",
    "    i = 1  \n",
    "    \n",
    "    while flag:\n",
    "        \n",
    "        if i%5 == 0:\n",
    "            flag = resume_play()\n",
    "            if flag:\n",
    "                guess = user_guess()\n",
    "                r = check_guess(guess)\n",
    "                print(r)\n",
    "                if win_check(r):\n",
    "                    print('\\nThank You for playing!')\n",
    "                    break\n",
    "                else:\n",
    "                    i += 1\n",
    "            else:\n",
    "                print('\\nThank You for playing!')\n",
    "            \n",
    "        else :\n",
    "            guess = user_guess()\n",
    "            r = check_guess(guess)\n",
    "            print(r)\n",
    "            if win_check(r):\n",
    "                print('\\nThank You for playing!')\n",
    "                break\n",
    "            else:\n",
    "                i += 1\n",
    "            "
   ]
  },
  {
   "cell_type": "code",
   "execution_count": 9,
   "id": "527ef849",
   "metadata": {},
   "outputs": [
    {
     "name": "stdout",
     "output_type": "stream",
     "text": [
      "How Good are you at guessing?\n",
      "\n",
      "Welcome to the MASTERMIND!!! \n",
      "\n",
      "Enter your guess: 5632\n",
      "1-2\n",
      "Enter your guess: 6532\n",
      "1-2\n",
      "Enter your guess: 6523\n",
      "0-3\n",
      "Enter your guess: 3652\n",
      "3-0\n",
      "\n",
      "Do you want to continue: y\n",
      "Enter your guess: 3672\n",
      "2-0\n",
      "Enter your guess: 4652\n",
      "2-0\n",
      "Enter your guess: 3752\n",
      "3-0\n",
      "Enter your guess: 3852\n",
      "3-0\n",
      "Enter your guess: 3952\n",
      "4-0\n",
      "\n",
      "Yayy!!! You guessed it right.\n",
      "\n",
      "Thank You for playing!\n"
     ]
    }
   ],
   "source": [
    "mastermind()"
   ]
  },
  {
   "cell_type": "code",
   "execution_count": null,
   "id": "3a950245",
   "metadata": {},
   "outputs": [],
   "source": []
  }
 ],
 "metadata": {
  "kernelspec": {
   "display_name": "Python 3",
   "language": "python",
   "name": "python3"
  },
  "language_info": {
   "codemirror_mode": {
    "name": "ipython",
    "version": 3
   },
   "file_extension": ".py",
   "mimetype": "text/x-python",
   "name": "python",
   "nbconvert_exporter": "python",
   "pygments_lexer": "ipython3",
   "version": "3.8.8"
  }
 },
 "nbformat": 4,
 "nbformat_minor": 5
}
