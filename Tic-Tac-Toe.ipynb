{
 "cells": [
  {
   "cell_type": "markdown",
   "id": "e73d870c",
   "metadata": {},
   "source": [
    "# Tic Tac Toe"
   ]
  },
  {
   "cell_type": "markdown",
   "id": "015a0a0c",
   "metadata": {},
   "source": [
    "Use the numpad on the right-side of your keyboard for better experience"
   ]
  },
  {
   "cell_type": "markdown",
   "id": "3fcb049c",
   "metadata": {},
   "source": [
    "### Step 1\n",
    "Function for displaying the board, the entries are stored in a list with the indexes as on the numpad."
   ]
  },
  {
   "cell_type": "code",
   "execution_count": 1,
   "id": "8e9c7f69",
   "metadata": {},
   "outputs": [],
   "source": [
    "def display_board(board):\n",
    "    \n",
    "    print(f'{board[7]} | {board[8]} | {board[9]}')\n",
    "    print(f'{board[4]} | {board[5]} | {board[6]}')\n",
    "    print(f'{board[1]} | {board[2]} | {board[3]}')"
   ]
  },
  {
   "cell_type": "code",
   "execution_count": 2,
   "id": "29f2747b",
   "metadata": {},
   "outputs": [
    {
     "name": "stdout",
     "output_type": "stream",
     "text": [
      "  |   |  \n",
      "  |   |  \n",
      "  |   |  \n"
     ]
    }
   ],
   "source": [
    "test_board = ['#',' ',' ',' ',' ',' ',' ',' ',' ',' ']\n",
    "display_board(test_board)"
   ]
  },
  {
   "cell_type": "markdown",
   "id": "312c6934",
   "metadata": {},
   "source": [
    "### Step 2\n",
    "Getting the player input and storing them in global variables p1 and p2 so that we dont't need th assign them again."
   ]
  },
  {
   "cell_type": "code",
   "execution_count": 3,
   "id": "456010df",
   "metadata": {},
   "outputs": [],
   "source": [
    "def player_input():\n",
    "    \n",
    "    global p1, p2\n",
    "    \n",
    "    choices = ['X', 'O']\n",
    "    p1 = 'Z'\n",
    "    \n",
    "    while p1 not in choices:\n",
    "\n",
    "        p1 = input('Player 1: Choose \"X\" or \"O\": ')\n",
    "        if p1 == 'X':\n",
    "            p2 = 'O'\n",
    "            print(f'Player 2: You get {p2}\\n')\n",
    "        elif p1 == 'O':\n",
    "            p2 = 'X'\n",
    "            print(f'Player 2: You get {p2}\\n')\n",
    "        else:\n",
    "            print('Please choose among \"X\" and \"O\" only.\\n')\n"
   ]
  },
  {
   "cell_type": "code",
   "execution_count": 4,
   "id": "6f2c1f86",
   "metadata": {},
   "outputs": [
    {
     "name": "stdout",
     "output_type": "stream",
     "text": [
      "Player 1: Choose \"X\" or \"O\": X\n",
      "Player 2: You get O\n",
      "\n"
     ]
    }
   ],
   "source": [
    "player_input()"
   ]
  },
  {
   "cell_type": "code",
   "execution_count": 6,
   "id": "c2322d1d",
   "metadata": {
    "scrolled": true
   },
   "outputs": [
    {
     "name": "stdout",
     "output_type": "stream",
     "text": [
      "Player 1: Choose \"X\" or \"O\": O\n",
      "Player 2: You get X\n",
      "\n"
     ]
    }
   ],
   "source": [
    "player_input()"
   ]
  },
  {
   "cell_type": "code",
   "execution_count": 7,
   "id": "3fe9ac28",
   "metadata": {},
   "outputs": [
    {
     "name": "stdout",
     "output_type": "stream",
     "text": [
      "Player 1: Choose \"X\" or \"O\": w\n",
      "Please choose among \"X\" and \"O\" only.\n",
      "\n",
      "Player 1: Choose \"X\" or \"O\": O\n",
      "Player 2: You get X\n",
      "\n"
     ]
    }
   ],
   "source": [
    "player_input()"
   ]
  },
  {
   "cell_type": "markdown",
   "id": "bf85e282",
   "metadata": {},
   "source": [
    "### Step3\n",
    "Assigning the marker ('X' or 'O') on the desired position (1-9), entered via numpad."
   ]
  },
  {
   "cell_type": "code",
   "execution_count": 8,
   "id": "3bdf6f25",
   "metadata": {},
   "outputs": [],
   "source": [
    "def place_marker(board, marker, position):\n",
    "    board[position] = marker"
   ]
  },
  {
   "cell_type": "code",
   "execution_count": 9,
   "id": "eb0b57d5",
   "metadata": {},
   "outputs": [
    {
     "name": "stdout",
     "output_type": "stream",
     "text": [
      "  | $ |  \n",
      "  |   |  \n",
      "  |   |  \n"
     ]
    }
   ],
   "source": [
    "place_marker(test_board,'$',8)\n",
    "display_board(test_board)"
   ]
  },
  {
   "cell_type": "markdown",
   "id": "0e5ce9c8",
   "metadata": {},
   "source": [
    "### Step 4\n",
    "Function to check if the present board wins the streak of three for given the specified marker ('X' or 'O')"
   ]
  },
  {
   "cell_type": "code",
   "execution_count": 10,
   "id": "14c59145",
   "metadata": {},
   "outputs": [],
   "source": [
    "def win_check(board, mark):\n",
    "    \n",
    "    if board[7] == board[8] == board[9] == mark:\n",
    "        return True\n",
    "    elif board[4] == board[5] == board[6] == mark:\n",
    "        return True\n",
    "    elif board[1] == board[2] == board[3] == mark:\n",
    "        return True\n",
    "    elif board[7] == board[4] == board[1] == mark:\n",
    "        return True\n",
    "    elif board[8] == board[5] == board[2] == mark:\n",
    "        return True\n",
    "    elif board[9] == board[6] == board[3] == mark:\n",
    "        return True\n",
    "    elif board[7] == board[5] == board[3] == mark:\n",
    "        return True\n",
    "    elif board[9] == board[5] == board[1] == mark:\n",
    "        return True\n",
    "    else:\n",
    "        return False"
   ]
  },
  {
   "cell_type": "code",
   "execution_count": 11,
   "id": "65490203",
   "metadata": {},
   "outputs": [
    {
     "data": {
      "text/plain": [
       "False"
      ]
     },
     "execution_count": 11,
     "metadata": {},
     "output_type": "execute_result"
    }
   ],
   "source": [
    "win_check(test_board,'X')"
   ]
  },
  {
   "cell_type": "markdown",
   "id": "55d5a1e8",
   "metadata": {},
   "source": [
    "### Step 7\n",
    "Choose a random player to go first"
   ]
  },
  {
   "cell_type": "code",
   "execution_count": 12,
   "id": "58f84c6a",
   "metadata": {},
   "outputs": [],
   "source": [
    "import random\n",
    "\n",
    "def choose_first():\n",
    "    \n",
    "    players = ['p1', 'p2']\n",
    "    choice = random.choice(players)\n",
    "    \n",
    "    if choice == 'p1':\n",
    "        return 'Player 1'\n",
    "    else:\n",
    "        return 'Player 2'"
   ]
  },
  {
   "cell_type": "code",
   "execution_count": 13,
   "id": "506d7256",
   "metadata": {},
   "outputs": [
    {
     "data": {
      "text/plain": [
       "'Player 1'"
      ]
     },
     "execution_count": 13,
     "metadata": {},
     "output_type": "execute_result"
    }
   ],
   "source": [
    "choose_first()"
   ]
  },
  {
   "cell_type": "code",
   "execution_count": 14,
   "id": "3c50bff7",
   "metadata": {},
   "outputs": [
    {
     "data": {
      "text/plain": [
       "'Player 1'"
      ]
     },
     "execution_count": 14,
     "metadata": {},
     "output_type": "execute_result"
    }
   ],
   "source": [
    "choose_first()"
   ]
  },
  {
   "cell_type": "code",
   "execution_count": 18,
   "id": "c81ffb2d",
   "metadata": {},
   "outputs": [
    {
     "data": {
      "text/plain": [
       "'Player 2'"
      ]
     },
     "execution_count": 18,
     "metadata": {},
     "output_type": "execute_result"
    }
   ],
   "source": [
    "choose_first()"
   ]
  },
  {
   "cell_type": "markdown",
   "id": "6c31b3e7",
   "metadata": {},
   "source": [
    "### Step 8\n",
    "Check if the there is space on the board for a position"
   ]
  },
  {
   "cell_type": "code",
   "execution_count": 19,
   "id": "34f6422a",
   "metadata": {},
   "outputs": [],
   "source": [
    "def space_check(board, position):\n",
    "    \n",
    "    if board[position] == ' ':\n",
    "        return True\n",
    "    else:\n",
    "        return False"
   ]
  },
  {
   "cell_type": "code",
   "execution_count": 20,
   "id": "ca183681",
   "metadata": {},
   "outputs": [
    {
     "data": {
      "text/plain": [
       "False"
      ]
     },
     "execution_count": 20,
     "metadata": {},
     "output_type": "execute_result"
    }
   ],
   "source": [
    "#There's a $ at position 8, so it should return false\n",
    "space_check(test_board, 8)"
   ]
  },
  {
   "cell_type": "markdown",
   "id": "76a123dc",
   "metadata": {},
   "source": [
    "### Step 9\n",
    "Check if the complete board has any space or not"
   ]
  },
  {
   "cell_type": "code",
   "execution_count": 21,
   "id": "8ce10e3a",
   "metadata": {},
   "outputs": [],
   "source": [
    "def full_board_check(board):\n",
    "    \n",
    "    for i in range(1,10):\n",
    "        if space_check(board, i):\n",
    "            return False\n",
    "    return True"
   ]
  },
  {
   "cell_type": "code",
   "execution_count": 22,
   "id": "937210e9",
   "metadata": {},
   "outputs": [
    {
     "data": {
      "text/plain": [
       "False"
      ]
     },
     "execution_count": 22,
     "metadata": {},
     "output_type": "execute_result"
    }
   ],
   "source": [
    "#The board has only one postition filled. so it should return false\n",
    "full_board_check(test_board)"
   ]
  },
  {
   "cell_type": "markdown",
   "id": "fdd37543",
   "metadata": {},
   "source": [
    "### Step 10\n",
    "Ask the player for his choice and check if that position is empty on the board and in range 1-9"
   ]
  },
  {
   "cell_type": "code",
   "execution_count": 24,
   "id": "79cae209",
   "metadata": {},
   "outputs": [],
   "source": [
    "def player_choice(p, board):\n",
    "    \n",
    "    position = 0\n",
    "    \n",
    "    while position not in [1,2,3,4,5,6,7,8,9] or not space_check(board, position):\n",
    "        position = int(input(f'{p} Choose your position: (1-9) '))\n",
    "        \n",
    "    return position"
   ]
  },
  {
   "cell_type": "markdown",
   "id": "b30670c4",
   "metadata": {},
   "source": [
    "### Step 11\n",
    "Check if the player wants to replay or not"
   ]
  },
  {
   "cell_type": "code",
   "execution_count": 26,
   "id": "fd769f5e",
   "metadata": {},
   "outputs": [],
   "source": [
    "def replay():\n",
    "    \n",
    "    #returns true if the input starts with 'y'\n",
    "    return input('\\nDo you want to play again? Enter Yes or No: ').lower().startswith('y')"
   ]
  },
  {
   "cell_type": "markdown",
   "id": "19107dd5",
   "metadata": {},
   "source": [
    "### Assembly"
   ]
  },
  {
   "cell_type": "code",
   "execution_count": 27,
   "id": "64c8a067",
   "metadata": {},
   "outputs": [
    {
     "name": "stdout",
     "output_type": "stream",
     "text": [
      "Welcome to Tic Tac Toe!\n",
      "\n",
      "Player 1: Choose \"X\" or \"O\": X\n",
      "Player 2: You get O\n",
      "\n",
      "Player 1 you will go first!\n",
      "\n",
      "Are you ready to play? Enter Yes or No.y\n",
      "  |   |  \n",
      "  |   |  \n",
      "  |   |  \n",
      "Player 1 Choose your position: (1-9) 5\n",
      "  |   |  \n",
      "  | X |  \n",
      "  |   |  \n",
      "Player 2 Choose your position: (1-9) 6\n",
      "  |   |  \n",
      "  | X | O\n",
      "  |   |  \n",
      "Player 1 Choose your position: (1-9) 4\n",
      "  |   |  \n",
      "X | X | O\n",
      "  |   |  \n",
      "Player 2 Choose your position: (1-9) 9\n",
      "  |   | O\n",
      "X | X | O\n",
      "  |   |  \n",
      "Player 1 Choose your position: (1-9) 3\n",
      "  |   | O\n",
      "X | X | O\n",
      "  |   | X\n",
      "Player 2 Choose your position: (1-9) 2\n",
      "  |   | O\n",
      "X | X | O\n",
      "  | O | X\n",
      "Player 1 Choose your position: (1-9) 7\n",
      "X |   | O\n",
      "X | X | O\n",
      "  | O | X\n",
      "Congratulations! You have won the game!\n",
      "\n",
      "Do you want to play again? Enter Yes or No: n\n",
      "\n",
      "Thank You!\n",
      "\n"
     ]
    }
   ],
   "source": [
    "print('Welcome to Tic Tac Toe!\\n')\n",
    "\n",
    "#Initial condition\n",
    "while True:\n",
    "    \n",
    "    # Reset the board\n",
    "    theBoard = [' '] * 10\n",
    "    #Ask for the player input\n",
    "    player_input()\n",
    "    # Randomly choose first and save the player's name in variable 'turn'\n",
    "    turn = choose_first()\n",
    "    print(turn + ' you will go first!\\n')\n",
    "    \n",
    "    \n",
    "    #Ask if the are ready?\n",
    "    play_game = input('Are you ready to play? Enter Yes or No.')\n",
    "    if play_game.lower()[0] == 'y':\n",
    "        game_on = True\n",
    "    else:\n",
    "        game_on = False\n",
    "        \n",
    "        \n",
    "    while game_on:\n",
    "        \n",
    "        if turn == 'Player 1':\n",
    "            # Player1's turn.\n",
    "            \n",
    "            #Display the reset board\n",
    "            display_board(theBoard)\n",
    "            #Ask for choice and if it is available, store it in postion or ask again\n",
    "            position = player_choice(turn, theBoard)\n",
    "            #Mark that position on the board\n",
    "            place_marker(theBoard, p1, position)\n",
    "            \n",
    "            #Check if there's a winning combination\n",
    "            if win_check(theBoard, p1):\n",
    "                display_board(theBoard)\n",
    "                print('Congratulations! You have won the game!')\n",
    "                game_on = False\n",
    "            #Else check if the board is full (In that case the game is a draw) else, pass the turn to player 2\n",
    "            else:\n",
    "                \n",
    "                if full_board_check(theBoard):\n",
    "                    display_board(theBoard)\n",
    "                    print('The game is a draw!')\n",
    "                    break\n",
    "                else:\n",
    "                    turn = 'Player 2'\n",
    "            \n",
    "        else:\n",
    "            # Player2's turn.\n",
    "            \n",
    "            #Similar as for Player 1\n",
    "            \n",
    "            display_board(theBoard)\n",
    "            position = player_choice(turn, theBoard)\n",
    "            place_marker(theBoard, p2, position)\n",
    "\n",
    "            if win_check(theBoard, p2):\n",
    "                display_board(theBoard)\n",
    "                print('Player 2 has won!')\n",
    "                game_on = False\n",
    "            else:\n",
    "                if full_board_check(theBoard):\n",
    "                    display_board(theBoard)\n",
    "                    print('The game is a draw!')\n",
    "                    break\n",
    "                else:\n",
    "                    turn = 'Player 1'\n",
    "                    \n",
    "    #Display the replay msg after result\n",
    "    #If no...exit\n",
    "                    \n",
    "    if not replay():\n",
    "        print('\\nThank You!\\n')\n",
    "        break\n"
   ]
  },
  {
   "cell_type": "code",
   "execution_count": null,
   "id": "c2b68e02",
   "metadata": {},
   "outputs": [],
   "source": []
  }
 ],
 "metadata": {
  "kernelspec": {
   "display_name": "Python 3",
   "language": "python",
   "name": "python3"
  },
  "language_info": {
   "codemirror_mode": {
    "name": "ipython",
    "version": 3
   },
   "file_extension": ".py",
   "mimetype": "text/x-python",
   "name": "python",
   "nbconvert_exporter": "python",
   "pygments_lexer": "ipython3",
   "version": "3.8.8"
  }
 },
 "nbformat": 4,
 "nbformat_minor": 5
}
