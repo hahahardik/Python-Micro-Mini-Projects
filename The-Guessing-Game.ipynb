{
 "cells": [
  {
   "cell_type": "code",
   "execution_count": null,
   "id": "e7598aee",
   "metadata": {},
   "outputs": [],
   "source": [
    "from random import randint\n",
    "\n",
    "num = randint(1,100)\n",
    "guess_list = [0] # Guess list containing a 0 flag (as False)\n",
    "\n",
    "print(\"\"\"Welcome to THE GUESSING GAME\\n \n",
    "Guidelines:\n",
    "1. The system picks a random number between 0 and 100.\n",
    "2. If your guess is more than 10 away from my number, I'll tell you you're COLD.\n",
    "3. If your guess is within 10 of my number, I'll tell you you're WARM.\n",
    "4. If your guess is farther than your most recent guess, I'll say you're getting COLDER.\n",
    "5. If your guess is closer than your most recent guess, I'll say you're getting WARMER.\\n\n",
    "LET'S GO!!!\"\"\")\n",
    "\n",
    "while True:\n",
    "    \n",
    "    guess = int(input('\\nEnter your Guess: '))\n",
    "    \n",
    "    if guess < 1 and guess > 100:\n",
    "        print('OUT OF BOUNDS!')\n",
    "        break\n",
    "    \n",
    "    if guess == num:\n",
    "        print(f'\\nCONGRATULATIONS!!!\\n\\nYou guessed it in just {len(guess_list)} guesses.')\n",
    "        break\n",
    "        \n",
    "    #Add the guessed word to the list of guesses    \n",
    "    guess_list.append(guess)\n",
    "    \n",
    "    #Guess_list[-2] = 0 indicates False i.e. it has more than two guesses\n",
    "    if guess_list[-2]:\n",
    "        if abs(num-guess) < abs(num-guess_list[-2]):\n",
    "            print('WARMER')\n",
    "        else:\n",
    "            print('COLDER')\n",
    "    \n",
    "    #This block gets executed when guess_list[-2] is true.\n",
    "    else:\n",
    "        if abs(num-guess) <= 10:\n",
    "            print('WARM')\n",
    "        else:\n",
    "            print('COLD')"
   ]
  }
 ],
 "metadata": {
  "kernelspec": {
   "display_name": "Python 3",
   "language": "python",
   "name": "python3"
  },
  "language_info": {
   "codemirror_mode": {
    "name": "ipython",
    "version": 3
   },
   "file_extension": ".py",
   "mimetype": "text/x-python",
   "name": "python",
   "nbconvert_exporter": "python",
   "pygments_lexer": "ipython3",
   "version": "3.8.8"
  }
 },
 "nbformat": 4,
 "nbformat_minor": 5
}
